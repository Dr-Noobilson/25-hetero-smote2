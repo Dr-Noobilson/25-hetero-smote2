{
 "cells": [
  {
   "cell_type": "code",
   "execution_count": null,
   "metadata": {},
   "outputs": [],
   "source": [
    "import sys\n",
    "sys.path.extend([ '../', '../../', '../../../'])\n",
    "import torch\n",
    "import dataloader as dl\n",
    "from args import Args\n",
    "# from model import Het_ConEn, Het_NetEn, EdgePredictor, Het_classify\n",
    "from model import HAN_ConEn, HAN_NetEn, EdgePredictor, HAN_classify\n",
    "from train import train_smote\n",
    "\n",
    "# Set device to GPU if available, else use CPU\n",
    "args = Args()\n",
    "args.imdb()\n",
    "torch.cuda.empty_cache()"
   ]
  },
  {
   "cell_type": "code",
   "execution_count": null,
   "metadata": {},
   "outputs": [],
   "source": [
    "data = torch.load('../../data/data.pt', weights_only=False)\n",
    "print(data)"
   ]
  },
  {
   "cell_type": "code",
   "execution_count": null,
   "metadata": {},
   "outputs": [],
   "source": [
    "print(data['m','walk','a'].edge_index)\n",
    "device = args.device\n",
    "data = data.to(device)\n",
    "\n",
    "# Send all x tensors to the device\n",
    "data['m_text_embed']['x'] = data['m_text_embed']['x'].to(device)\n",
    "data['m_net_embed']['x'] = data['m_net_embed']['x'].to(device)\n",
    "data['m_a_net_embed']['x'] = data['m_a_net_embed']['x'].to(device)\n",
    "data['m_d_net_embed']['x'] = data['m_d_net_embed']['x'].to(device)\n",
    "data['a_net_embed']['x'] = data['a_net_embed']['x'].to(device)\n",
    "data['a_text_embed']['x'] = data['a_text_embed']['x'].to(device)\n",
    "data['d_net_embed']['x'] = data['d_net_embed']['x'].to(device)\n",
    "data['d_text_embed']['x'] = data['d_text_embed']['x'].to(device)\n",
    "\n",
    "# Send all y tensors to the device\n",
    "data['m']['y'] = data['m']['y'].to(device)\n",
    "\n",
    "# Send all edge_index tensors to the device\n",
    "data['m', 'walk', 'm']['edge_index'] = data['m', 'walk', 'm']['edge_index'].to(device)\n",
    "data['m', 'walk', 'a']['edge_index'] = data['m', 'walk', 'a']['edge_index'].to(device)\n",
    "data['m', 'walk', 'd']['edge_index'] = data['m', 'walk', 'd']['edge_index'].to(device)\n",
    "data['a', 'walk', 'm']['edge_index'] = data['a', 'walk', 'm']['edge_index'].to(device)\n",
    "data['a', 'walk', 'a']['edge_index'] = data['a', 'walk', 'a']['edge_index'].to(device)\n",
    "data['a', 'walk', 'd']['edge_index'] = data['a', 'walk', 'd']['edge_index'].to(device)\n",
    "data['d', 'walk', 'm']['edge_index'] = data['d', 'walk', 'm']['edge_index'].to(device)\n",
    "data['d', 'walk', 'a']['edge_index'] = data['d', 'walk', 'a']['edge_index'].to(device)\n",
    "data['d', 'walk', 'd']['edge_index'] = data['d', 'walk', 'd']['edge_index'].to(device)\n",
    "\n",
    "edge_indices = [ data['m', 'walk', 'm'].edge_index, data['m', 'walk', 'a'].edge_index, data['m', 'walk', 'd'].edge_index ]"
   ]
  },
  {
   "cell_type": "code",
   "execution_count": null,
   "metadata": {},
   "outputs": [],
   "source": [
    "c_train_num = dl.train_num(data['m'].y, args.im_class_num, args.class_samp_num[0], args.im_ratio)\n",
    "print(c_train_num, sum(c_train_num))\n",
    "train_idx, val_idx, test_idx, c_num_mat = dl.segregate(data['m'].y, c_train_num, args.seed[1], args)\n",
    "print(\"train_idx: \", train_idx, len(train_idx))\n",
    "print(\"val_idx: \", val_idx, len(val_idx))\n",
    "print(\"test_idx: \", test_idx, len(test_idx))\n",
    "# print(c_num_mat)"
   ]
  },
  {
   "cell_type": "code",
   "execution_count": null,
   "metadata": {},
   "outputs": [],
   "source": [
    "## HAN\n",
    "\n",
    "encoder1 = HAN_ConEn(args.embed_dim, args.dropout)\n",
    "encoder2 = HAN_NetEn(args.embed_dim, args.heads, args.dropout)\n",
    "classifier = HAN_classify(args.embed_dim, args.heads, args.nclass, args.dropout)\n",
    "decoder_m = EdgePredictor(args.embed_dim)\n",
    "decoder_a = EdgePredictor(args.embed_dim)\n",
    "decoder_d = EdgePredictor(args.embed_dim)\n",
    "# decoder_m = torch.load('../pretrained_han/decoder_m.pth')\n",
    "# decoder_a = torch.load('../pretrained_han/decoder_a.pth')\n",
    "# decoder_d = torch.load('../pretrained_han/decoder_d.pth')\n",
    "decoder_list = [decoder_m, decoder_a, decoder_d]\n",
    "\n",
    "encoder1.to(device)\n",
    "encoder2.to(device)\n",
    "classifier.to(device)\n",
    "for decoder in decoder_list:\n",
    "    decoder.to(device)"
   ]
  },
  {
   "cell_type": "code",
   "execution_count": null,
   "metadata": {},
   "outputs": [],
   "source": [
    "### HETGNN\n",
    "\n",
    "# encoder1 = Het_ConEn(args.embed_dim, args.dropout)\n",
    "# encoder2 = Het_NetEn(args.embed_dim, args.dropout)\n",
    "# classifier = Het_classify(args.embed_dim, args.nclass, args.dropout)\n",
    "# decoder_m = EdgePredictor(args.embed_dim)\n",
    "# decoder_a = EdgePredictor(args.embed_dim)\n",
    "# decoder_d = EdgePredictor(args.embed_dim)\n",
    "# # decoder_m = torch.load('../pretrained_hgnn/decoder_m.pth')\n",
    "# # decoder_a = torch.load('../pretrained_hgnn/decoder_a.pth')\n",
    "# # decoder_d = torch.load('../pretrained_hgnn/decoder_d.pth')\n",
    "# decoder_list = [decoder_m, decoder_a, decoder_d]\n",
    "\n",
    "# encoder1.to(device)\n",
    "# encoder2.to(device)\n",
    "# classifier.to(device)\n",
    "# for decoder in decoder_list:\n",
    "#     decoder.to(device)"
   ]
  },
  {
   "cell_type": "markdown",
   "metadata": {},
   "source": [
    "## Training Part"
   ]
  },
  {
   "cell_type": "code",
   "execution_count": null,
   "metadata": {},
   "outputs": [],
   "source": [
    "torch.cuda.empty_cache()\n",
    "train_smote(data, edge_indices, encoder1, encoder2, classifier, decoder_list, \n",
    "            train_idx, val_idx, test_idx, args, os_mode = 'kmeans', train_mode = '')"
   ]
  },
  {
   "cell_type": "code",
   "execution_count": null,
   "metadata": {},
   "outputs": [],
   "source": [
    "# test_smote(data, edge_indices, encoder, classifier, decoder_list, test_idx, args = args, dataset = 'Test', os_mode = 'gsm', train_mode = 'preT')"
   ]
  },
  {
   "cell_type": "code",
   "execution_count": null,
   "metadata": {},
   "outputs": [],
   "source": [
    "# torch.save(decoder_list[0], '../pretrained_han/decoder_m.pth')\n",
    "# torch.save(decoder_list[1], '../pretrained_han/decoder_a.pth')\n",
    "# torch.save(decoder_list[2], '../pretrained_han/decoder_d.pth')\n",
    "# torch.save(encoder1, '../pretrained_han/encoder1.pth')\n",
    "# torch.save(encoder2, '../pretrained_han/encoder2.pth')"
   ]
  }
 ],
 "metadata": {
  "kernelspec": {
   "display_name": "venv",
   "language": "python",
   "name": "python3"
  },
  "language_info": {
   "codemirror_mode": {
    "name": "ipython",
    "version": 3
   },
   "file_extension": ".py",
   "mimetype": "text/x-python",
   "name": "python",
   "nbconvert_exporter": "python",
   "pygments_lexer": "ipython3",
   "version": "3.12.3"
  },
  "orig_nbformat": 4
 },
 "nbformat": 4,
 "nbformat_minor": 2
}
